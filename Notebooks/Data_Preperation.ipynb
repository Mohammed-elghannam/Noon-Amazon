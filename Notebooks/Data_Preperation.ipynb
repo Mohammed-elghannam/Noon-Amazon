{
 "cells": [
  {
   "cell_type": "markdown",
   "id": "8e9afb6e",
   "metadata": {},
   "source": [
    "# Data Preperation"
   ]
  },
  {
   "cell_type": "markdown",
   "id": "e51f01c6",
   "metadata": {},
   "source": [
    "## Noon"
   ]
  },
  {
   "cell_type": "code",
   "execution_count": 2,
   "id": "291808a4",
   "metadata": {},
   "outputs": [],
   "source": [
    "import numpy as np\n",
    "import pandas as pd\n",
    "import matplotlib.pyplot as plt\n",
    "import os"
   ]
  },
  {
   "cell_type": "code",
   "execution_count": 3,
   "id": "8974fc1f",
   "metadata": {},
   "outputs": [
    {
     "data": {
      "text/plain": [
       "['audio_products.csv',\n",
       " 'bluetooth-speakers_products.csv',\n",
       " 'cameras_products.csv',\n",
       " 'cases-and-covers_products.csv',\n",
       " 'controllers-and-joysticks_products.csv',\n",
       " 'data-storage_products.csv',\n",
       " 'eg-all-audio_products.csv',\n",
       " 'eg-Installments-new_products.csv',\n",
       " 'eg-keyboard-mouse_products.csv',\n",
       " 'games-34004_products.csv',\n",
       " 'laptops_products.csv',\n",
       " 'mobiles_products.csv',\n",
       " 'monitor-accessories_products.csv',\n",
       " 'networking-products-16523_products.csv',\n",
       " 'power-banks_products.csv',\n",
       " 'products.csv',\n",
       " 'stationery-printers_products.csv',\n",
       " 'tablets_products.csv',\n",
       " 'television_products.csv',\n",
       " 'video-games_products.csv',\n",
       " 'wearables-store_products.csv']"
      ]
     },
     "execution_count": 3,
     "metadata": {},
     "output_type": "execute_result"
    }
   ],
   "source": [
    "noon_directory = \"../noon\"\n",
    "os.listdir(noon_directory)"
   ]
  },
  {
   "cell_type": "code",
   "execution_count": 4,
   "id": "4499581c",
   "metadata": {},
   "outputs": [
    {
     "data": {
      "text/plain": [
       "['audio_products.csv',\n",
       " 'bluetooth-speakers_products.csv',\n",
       " 'cameras_products.csv',\n",
       " 'cases-and-covers_products.csv',\n",
       " 'controllers-and-joysticks_products.csv',\n",
       " 'data-storage_products.csv',\n",
       " 'eg-all-audio_products.csv',\n",
       " 'eg-Installments-new_products.csv',\n",
       " 'eg-keyboard-mouse_products.csv',\n",
       " 'games-34004_products.csv',\n",
       " 'laptops_products.csv',\n",
       " 'mobiles_products.csv',\n",
       " 'monitor-accessories_products.csv',\n",
       " 'networking-products-16523_products.csv',\n",
       " 'power-banks_products.csv',\n",
       " 'products.csv',\n",
       " 'stationery-printers_products.csv',\n",
       " 'tablets_products.csv',\n",
       " 'television_products.csv',\n",
       " 'video-games_products.csv',\n",
       " 'wearables-store_products.csv']"
      ]
     },
     "execution_count": 4,
     "metadata": {},
     "output_type": "execute_result"
    }
   ],
   "source": [
    "#sotre csv file names in a list\n",
    "csv_files = [file_name for file_name in os.listdir(noon_directory) if file_name.endswith('.csv')]\n",
    "\n",
    "csv_files"
   ]
  },
  {
   "cell_type": "code",
   "execution_count": 7,
   "id": "88f6964f",
   "metadata": {},
   "outputs": [],
   "source": [
    "# Read and concatenate all csv files\n",
    "df_combined = pd.concat([pd.read_csv(f\"../noon/{file}\") for file in csv_files], ignore_index=True)\n",
    "df_combined.to_csv('../Processed Data/noon_electronics.csv', index=False)"
   ]
  },
  {
   "cell_type": "markdown",
   "id": "bb1a7790",
   "metadata": {},
   "source": [
    "## Amazon"
   ]
  },
  {
   "cell_type": "code",
   "execution_count": 8,
   "id": "d0029709",
   "metadata": {},
   "outputs": [
    {
     "data": {
      "text/plain": [
       "['amazon.py',\n",
       " 'batteries_products.csv',\n",
       " 'Headphones_products.csv',\n",
       " 'Laptops_products.csv',\n",
       " 'Mobile Accessories_products.csv',\n",
       " 'Mobiles_products.csv',\n",
       " 'PC_products.csv',\n",
       " 'Printers & Supplies_products.csv',\n",
       " 'Speakers_products.csv',\n",
       " 'Televisions_products.csv',\n",
       " 'Wearables_products.csv']"
      ]
     },
     "execution_count": 8,
     "metadata": {},
     "output_type": "execute_result"
    }
   ],
   "source": [
    "amazon_directory = \"../amazon\"\n",
    "os.listdir(amazon_directory)"
   ]
  },
  {
   "cell_type": "code",
   "execution_count": 9,
   "id": "13e3f512",
   "metadata": {},
   "outputs": [
    {
     "data": {
      "text/plain": [
       "['batteries_products.csv',\n",
       " 'Headphones_products.csv',\n",
       " 'Laptops_products.csv',\n",
       " 'Mobile Accessories_products.csv',\n",
       " 'Mobiles_products.csv',\n",
       " 'PC_products.csv',\n",
       " 'Printers & Supplies_products.csv',\n",
       " 'Speakers_products.csv',\n",
       " 'Televisions_products.csv',\n",
       " 'Wearables_products.csv']"
      ]
     },
     "execution_count": 9,
     "metadata": {},
     "output_type": "execute_result"
    }
   ],
   "source": [
    "#sotre csv file names in a list\n",
    "csv_files = [file_name for file_name in os.listdir(amazon_directory) if file_name.endswith('.csv')]\n",
    "\n",
    "csv_files"
   ]
  },
  {
   "cell_type": "code",
   "execution_count": 10,
   "id": "065a9237",
   "metadata": {},
   "outputs": [],
   "source": [
    "# Read and concatenate all csv files\n",
    "df_combined = pd.concat([pd.read_csv(f\"../amazon/{file}\") for file in csv_files], ignore_index=True)\n",
    "df_combined.to_csv('../Processed Data/amazon_electronics.csv', index=False)"
   ]
  },
  {
   "cell_type": "code",
   "execution_count": 3,
   "id": "b66451c8",
   "metadata": {},
   "outputs": [],
   "source": [
    "# combine to one file\n",
    "df_noon = pd.read_csv('../Processed Data/noon_electronics.csv')\n",
    "df_amazon = pd.read_csv('../Processed Data/amazon_electronics.csv')\n",
    "df_combined = pd.concat([df_noon, df_amazon], ignore_index=True)\n",
    "df_combined.to_csv('../Processed Data/combined_electronics.csv', index=False)"
   ]
  },
  {
   "cell_type": "code",
   "execution_count": null,
   "id": "a96a9653",
   "metadata": {},
   "outputs": [],
   "source": []
  }
 ],
 "metadata": {
  "kernelspec": {
   "display_name": "base",
   "language": "python",
   "name": "python3"
  },
  "language_info": {
   "codemirror_mode": {
    "name": "ipython",
    "version": 3
   },
   "file_extension": ".py",
   "mimetype": "text/x-python",
   "name": "python",
   "nbconvert_exporter": "python",
   "pygments_lexer": "ipython3",
   "version": "3.12.3"
  }
 },
 "nbformat": 4,
 "nbformat_minor": 5
}
