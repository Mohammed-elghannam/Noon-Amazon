{
 "cells": [
  {
   "cell_type": "markdown",
   "id": "6a51fbd2",
   "metadata": {},
   "source": [
    "# Preprocessing and Cleaning"
   ]
  },
  {
   "cell_type": "code",
   "execution_count": 25,
   "id": "0bae2955",
   "metadata": {},
   "outputs": [],
   "source": [
    "import numpy as np\n",
    "import pandas as pd\n",
    "import matplotlib.pyplot as plt\n",
    "import os"
   ]
  },
  {
   "cell_type": "code",
   "execution_count": 26,
   "id": "fbabb48d",
   "metadata": {},
   "outputs": [
    {
     "data": {
      "text/html": [
       "<div>\n",
       "<style scoped>\n",
       "    .dataframe tbody tr th:only-of-type {\n",
       "        vertical-align: middle;\n",
       "    }\n",
       "\n",
       "    .dataframe tbody tr th {\n",
       "        vertical-align: top;\n",
       "    }\n",
       "\n",
       "    .dataframe thead th {\n",
       "        text-align: right;\n",
       "    }\n",
       "</style>\n",
       "<table border=\"1\" class=\"dataframe\">\n",
       "  <thead>\n",
       "    <tr style=\"text-align: right;\">\n",
       "      <th></th>\n",
       "      <th>title</th>\n",
       "      <th>price</th>\n",
       "      <th>category</th>\n",
       "      <th>site</th>\n",
       "      <th>original_price</th>\n",
       "    </tr>\n",
       "  </thead>\n",
       "  <tbody>\n",
       "    <tr>\n",
       "      <th>0</th>\n",
       "      <td>Kisonli Kisonli LED-802 Soundbar Music Speaker...</td>\n",
       "      <td>595.0</td>\n",
       "      <td>audio</td>\n",
       "      <td>noon</td>\n",
       "      <td>NaN</td>\n",
       "    </tr>\n",
       "    <tr>\n",
       "      <th>1</th>\n",
       "      <td>Xiaomi Redmi Buds 6 Lite | 40dB With Hybrid AN...</td>\n",
       "      <td>1399.0</td>\n",
       "      <td>audio</td>\n",
       "      <td>noon</td>\n",
       "      <td>1589.7727272727273</td>\n",
       "    </tr>\n",
       "    <tr>\n",
       "      <th>2</th>\n",
       "      <td>Xiaomi Redmi buds 6 Lite Hybrid ANC Wireless E...</td>\n",
       "      <td>1399.0</td>\n",
       "      <td>audio</td>\n",
       "      <td>noon</td>\n",
       "      <td>1589.7727272727273</td>\n",
       "    </tr>\n",
       "    <tr>\n",
       "      <th>3</th>\n",
       "      <td>Yesido Yesido YH53 3.5mm In-Ear Wired Earphone...</td>\n",
       "      <td>149.0</td>\n",
       "      <td>audio</td>\n",
       "      <td>noon</td>\n",
       "      <td>298.0</td>\n",
       "    </tr>\n",
       "    <tr>\n",
       "      <th>4</th>\n",
       "      <td>Recci RECCI Metal Type-C Wired Earphone REP-L38</td>\n",
       "      <td>399.0</td>\n",
       "      <td>audio</td>\n",
       "      <td>noon</td>\n",
       "      <td>798.0</td>\n",
       "    </tr>\n",
       "  </tbody>\n",
       "</table>\n",
       "</div>"
      ],
      "text/plain": [
       "                                               title   price category  site  \\\n",
       "0  Kisonli Kisonli LED-802 Soundbar Music Speaker...   595.0    audio  noon   \n",
       "1  Xiaomi Redmi Buds 6 Lite | 40dB With Hybrid AN...  1399.0    audio  noon   \n",
       "2  Xiaomi Redmi buds 6 Lite Hybrid ANC Wireless E...  1399.0    audio  noon   \n",
       "3  Yesido Yesido YH53 3.5mm In-Ear Wired Earphone...   149.0    audio  noon   \n",
       "4    Recci RECCI Metal Type-C Wired Earphone REP-L38   399.0    audio  noon   \n",
       "\n",
       "       original_price  \n",
       "0                 NaN  \n",
       "1  1589.7727272727273  \n",
       "2  1589.7727272727273  \n",
       "3               298.0  \n",
       "4               798.0  "
      ]
     },
     "execution_count": 26,
     "metadata": {},
     "output_type": "execute_result"
    }
   ],
   "source": [
    "df = pd.read_csv('../processed Data/combined_electronics.csv')\n",
    "df.head()"
   ]
  },
  {
   "cell_type": "code",
   "execution_count": 27,
   "id": "2f0d5190",
   "metadata": {},
   "outputs": [
    {
     "name": "stdout",
     "output_type": "stream",
     "text": [
      "<class 'pandas.core.frame.DataFrame'>\n",
      "RangeIndex: 30602 entries, 0 to 30601\n",
      "Data columns (total 5 columns):\n",
      " #   Column          Non-Null Count  Dtype \n",
      "---  ------          --------------  ----- \n",
      " 0   title           30602 non-null  object\n",
      " 1   price           29889 non-null  object\n",
      " 2   category        30552 non-null  object\n",
      " 3   site            30552 non-null  object\n",
      " 4   original_price  11486 non-null  object\n",
      "dtypes: object(5)\n",
      "memory usage: 1.2+ MB\n"
     ]
    }
   ],
   "source": [
    "df.info()"
   ]
  },
  {
   "cell_type": "code",
   "execution_count": 28,
   "id": "7e79104b",
   "metadata": {},
   "outputs": [],
   "source": [
    "# convert price to numeric\n",
    "df['price'] = df['price'].str.replace(r'\\.{2,}', '.', regex=True)\n",
    "df['price'] = df['price'].str.replace(',', '')\n",
    "df['price'] = df['price'].str.strip()\n",
    "df['price'] = df['price'].astype(float)\n"
   ]
  },
  {
   "cell_type": "code",
   "execution_count": 29,
   "id": "28e756f8",
   "metadata": {},
   "outputs": [],
   "source": [
    "\n",
    "df['original_price'] = df['original_price'].str.replace('EGP', '', regex=False)\n",
    "df['original_price'] = df['original_price'].str.replace(r'\\s+', '', regex=True)  \n",
    "df['original_price'] = df['original_price'].str.replace(',', '') \n",
    "\n",
    "df['original_price'] = df['original_price'].astype(float)\n"
   ]
  },
  {
   "cell_type": "code",
   "execution_count": 30,
   "id": "9fc03895",
   "metadata": {},
   "outputs": [
    {
     "data": {
      "text/plain": [
       "array(['noon', nan, 'amazon'], dtype=object)"
      ]
     },
     "execution_count": 30,
     "metadata": {},
     "output_type": "execute_result"
    }
   ],
   "source": [
    "df['site'].unique()"
   ]
  },
  {
   "cell_type": "code",
   "execution_count": 31,
   "id": "fbc82800",
   "metadata": {},
   "outputs": [
    {
     "data": {
      "text/plain": [
       "site\n",
       "noon      19963\n",
       "amazon    10589\n",
       "NaN          50\n",
       "Name: count, dtype: int64"
      ]
     },
     "execution_count": 31,
     "metadata": {},
     "output_type": "execute_result"
    }
   ],
   "source": [
    "df['site'].value_counts(dropna=False)"
   ]
  },
  {
   "cell_type": "code",
   "execution_count": 32,
   "id": "86dcad9b",
   "metadata": {},
   "outputs": [
    {
     "name": "stderr",
     "output_type": "stream",
     "text": [
      "C:\\Users\\ON-LINE\\AppData\\Local\\Temp\\ipykernel_20368\\3163245635.py:1: FutureWarning: A value is trying to be set on a copy of a DataFrame or Series through chained assignment using an inplace method.\n",
      "The behavior will change in pandas 3.0. This inplace method will never work because the intermediate object on which we are setting values always behaves as a copy.\n",
      "\n",
      "For example, when doing 'df[col].method(value, inplace=True)', try using 'df.method({col: value}, inplace=True)' or df[col] = df[col].method(value) instead, to perform the operation inplace on the original object.\n",
      "\n",
      "\n",
      "  df['site'].fillna('noon', inplace=True)\n"
     ]
    }
   ],
   "source": [
    "df['site'].fillna('noon', inplace=True)"
   ]
  },
  {
   "cell_type": "code",
   "execution_count": 33,
   "id": "d579f55f",
   "metadata": {},
   "outputs": [
    {
     "data": {
      "text/plain": [
       "site\n",
       "noon      20013\n",
       "amazon    10589\n",
       "Name: count, dtype: int64"
      ]
     },
     "execution_count": 33,
     "metadata": {},
     "output_type": "execute_result"
    }
   ],
   "source": [
    "df['site'].value_counts(dropna=False)"
   ]
  },
  {
   "cell_type": "code",
   "execution_count": 34,
   "id": "c3e1b9c8",
   "metadata": {},
   "outputs": [
    {
     "data": {
      "text/html": [
       "<div>\n",
       "<style scoped>\n",
       "    .dataframe tbody tr th:only-of-type {\n",
       "        vertical-align: middle;\n",
       "    }\n",
       "\n",
       "    .dataframe tbody tr th {\n",
       "        vertical-align: top;\n",
       "    }\n",
       "\n",
       "    .dataframe thead th {\n",
       "        text-align: right;\n",
       "    }\n",
       "</style>\n",
       "<table border=\"1\" class=\"dataframe\">\n",
       "  <thead>\n",
       "    <tr style=\"text-align: right;\">\n",
       "      <th></th>\n",
       "      <th>title</th>\n",
       "      <th>price</th>\n",
       "      <th>category</th>\n",
       "      <th>site</th>\n",
       "      <th>original_price</th>\n",
       "    </tr>\n",
       "  </thead>\n",
       "  <tbody>\n",
       "    <tr>\n",
       "      <th>0</th>\n",
       "      <td>Kisonli Kisonli LED-802 Soundbar Music Speaker...</td>\n",
       "      <td>595.0</td>\n",
       "      <td>audio</td>\n",
       "      <td>noon</td>\n",
       "      <td>NaN</td>\n",
       "    </tr>\n",
       "    <tr>\n",
       "      <th>1</th>\n",
       "      <td>Xiaomi Redmi Buds 6 Lite | 40dB With Hybrid AN...</td>\n",
       "      <td>1399.0</td>\n",
       "      <td>audio</td>\n",
       "      <td>noon</td>\n",
       "      <td>1589.772727</td>\n",
       "    </tr>\n",
       "    <tr>\n",
       "      <th>2</th>\n",
       "      <td>Xiaomi Redmi buds 6 Lite Hybrid ANC Wireless E...</td>\n",
       "      <td>1399.0</td>\n",
       "      <td>audio</td>\n",
       "      <td>noon</td>\n",
       "      <td>1589.772727</td>\n",
       "    </tr>\n",
       "    <tr>\n",
       "      <th>3</th>\n",
       "      <td>Yesido Yesido YH53 3.5mm In-Ear Wired Earphone...</td>\n",
       "      <td>149.0</td>\n",
       "      <td>audio</td>\n",
       "      <td>noon</td>\n",
       "      <td>298.000000</td>\n",
       "    </tr>\n",
       "    <tr>\n",
       "      <th>4</th>\n",
       "      <td>Recci RECCI Metal Type-C Wired Earphone REP-L38</td>\n",
       "      <td>399.0</td>\n",
       "      <td>audio</td>\n",
       "      <td>noon</td>\n",
       "      <td>798.000000</td>\n",
       "    </tr>\n",
       "  </tbody>\n",
       "</table>\n",
       "</div>"
      ],
      "text/plain": [
       "                                               title   price category  site  \\\n",
       "0  Kisonli Kisonli LED-802 Soundbar Music Speaker...   595.0    audio  noon   \n",
       "1  Xiaomi Redmi Buds 6 Lite | 40dB With Hybrid AN...  1399.0    audio  noon   \n",
       "2  Xiaomi Redmi buds 6 Lite Hybrid ANC Wireless E...  1399.0    audio  noon   \n",
       "3  Yesido Yesido YH53 3.5mm In-Ear Wired Earphone...   149.0    audio  noon   \n",
       "4    Recci RECCI Metal Type-C Wired Earphone REP-L38   399.0    audio  noon   \n",
       "\n",
       "   original_price  \n",
       "0             NaN  \n",
       "1     1589.772727  \n",
       "2     1589.772727  \n",
       "3      298.000000  \n",
       "4      798.000000  "
      ]
     },
     "execution_count": 34,
     "metadata": {},
     "output_type": "execute_result"
    }
   ],
   "source": [
    "df.head()"
   ]
  },
  {
   "cell_type": "code",
   "execution_count": null,
   "id": "2cf00c38",
   "metadata": {},
   "outputs": [],
   "source": [
    "# It might not be accurate enough\n",
    "df['brand'] = df['title'].str.split().str[0]"
   ]
  },
  {
   "cell_type": "code",
   "execution_count": 44,
   "id": "36ad623e",
   "metadata": {},
   "outputs": [
    {
     "data": {
      "text/html": [
       "<div>\n",
       "<style scoped>\n",
       "    .dataframe tbody tr th:only-of-type {\n",
       "        vertical-align: middle;\n",
       "    }\n",
       "\n",
       "    .dataframe tbody tr th {\n",
       "        vertical-align: top;\n",
       "    }\n",
       "\n",
       "    .dataframe thead th {\n",
       "        text-align: right;\n",
       "    }\n",
       "</style>\n",
       "<table border=\"1\" class=\"dataframe\">\n",
       "  <thead>\n",
       "    <tr style=\"text-align: right;\">\n",
       "      <th></th>\n",
       "      <th>title</th>\n",
       "      <th>price</th>\n",
       "      <th>category</th>\n",
       "      <th>site</th>\n",
       "      <th>original_price</th>\n",
       "      <th>brand</th>\n",
       "    </tr>\n",
       "  </thead>\n",
       "  <tbody>\n",
       "    <tr>\n",
       "      <th>0</th>\n",
       "      <td>Kisonli Kisonli LED-802 Soundbar Music Speaker...</td>\n",
       "      <td>595.0</td>\n",
       "      <td>audio</td>\n",
       "      <td>noon</td>\n",
       "      <td>NaN</td>\n",
       "      <td>Kisonli</td>\n",
       "    </tr>\n",
       "    <tr>\n",
       "      <th>1</th>\n",
       "      <td>Xiaomi Redmi Buds 6 Lite | 40dB With Hybrid AN...</td>\n",
       "      <td>1399.0</td>\n",
       "      <td>audio</td>\n",
       "      <td>noon</td>\n",
       "      <td>1589.772727</td>\n",
       "      <td>Xiaomi</td>\n",
       "    </tr>\n",
       "    <tr>\n",
       "      <th>2</th>\n",
       "      <td>Xiaomi Redmi buds 6 Lite Hybrid ANC Wireless E...</td>\n",
       "      <td>1399.0</td>\n",
       "      <td>audio</td>\n",
       "      <td>noon</td>\n",
       "      <td>1589.772727</td>\n",
       "      <td>Xiaomi</td>\n",
       "    </tr>\n",
       "    <tr>\n",
       "      <th>3</th>\n",
       "      <td>Yesido Yesido YH53 3.5mm In-Ear Wired Earphone...</td>\n",
       "      <td>149.0</td>\n",
       "      <td>audio</td>\n",
       "      <td>noon</td>\n",
       "      <td>298.000000</td>\n",
       "      <td>Yesido</td>\n",
       "    </tr>\n",
       "    <tr>\n",
       "      <th>4</th>\n",
       "      <td>Recci RECCI Metal Type-C Wired Earphone REP-L38</td>\n",
       "      <td>399.0</td>\n",
       "      <td>audio</td>\n",
       "      <td>noon</td>\n",
       "      <td>798.000000</td>\n",
       "      <td>Recci</td>\n",
       "    </tr>\n",
       "  </tbody>\n",
       "</table>\n",
       "</div>"
      ],
      "text/plain": [
       "                                               title   price category  site  \\\n",
       "0  Kisonli Kisonli LED-802 Soundbar Music Speaker...   595.0    audio  noon   \n",
       "1  Xiaomi Redmi Buds 6 Lite | 40dB With Hybrid AN...  1399.0    audio  noon   \n",
       "2  Xiaomi Redmi buds 6 Lite Hybrid ANC Wireless E...  1399.0    audio  noon   \n",
       "3  Yesido Yesido YH53 3.5mm In-Ear Wired Earphone...   149.0    audio  noon   \n",
       "4    Recci RECCI Metal Type-C Wired Earphone REP-L38   399.0    audio  noon   \n",
       "\n",
       "   original_price    brand  \n",
       "0             NaN  Kisonli  \n",
       "1     1589.772727   Xiaomi  \n",
       "2     1589.772727   Xiaomi  \n",
       "3      298.000000   Yesido  \n",
       "4      798.000000    Recci  "
      ]
     },
     "execution_count": 44,
     "metadata": {},
     "output_type": "execute_result"
    }
   ],
   "source": [
    "df.head()"
   ]
  },
  {
   "cell_type": "code",
   "execution_count": 43,
   "id": "2b11d87c",
   "metadata": {},
   "outputs": [],
   "source": [
    "df['brand'] = df['brand'].str.replace(r'[^A-Za-z0-9\\s.,!?\\'\"-]', '', regex=True)"
   ]
  },
  {
   "cell_type": "code",
   "execution_count": 50,
   "id": "b9b298a9",
   "metadata": {},
   "outputs": [],
   "source": [
    "df['category'] = df['category'].str.replace('laptops', 'Laptops')"
   ]
  },
  {
   "cell_type": "code",
   "execution_count": 56,
   "id": "be72713f",
   "metadata": {},
   "outputs": [
    {
     "data": {
      "text/plain": [
       "category\n",
       "Laptops    302\n",
       "Name: count, dtype: int64"
      ]
     },
     "execution_count": 56,
     "metadata": {},
     "output_type": "execute_result"
    }
   ],
   "source": [
    "df[df['category'] == 'Laptops']['category'].value_counts()"
   ]
  },
  {
   "cell_type": "code",
   "execution_count": 58,
   "id": "fac0f8ac",
   "metadata": {},
   "outputs": [
    {
     "data": {
      "text/plain": [
       "(30602, 6)"
      ]
     },
     "execution_count": 58,
     "metadata": {},
     "output_type": "execute_result"
    }
   ],
   "source": [
    "df.shape"
   ]
  },
  {
   "cell_type": "code",
   "execution_count": 59,
   "id": "8686fd90",
   "metadata": {},
   "outputs": [],
   "source": [
    "df.to_csv('../processed Data/final_result.csv', index=False)"
   ]
  },
  {
   "cell_type": "code",
   "execution_count": null,
   "id": "a8515a20",
   "metadata": {},
   "outputs": [],
   "source": []
  }
 ],
 "metadata": {
  "kernelspec": {
   "display_name": "base",
   "language": "python",
   "name": "python3"
  },
  "language_info": {
   "codemirror_mode": {
    "name": "ipython",
    "version": 3
   },
   "file_extension": ".py",
   "mimetype": "text/x-python",
   "name": "python",
   "nbconvert_exporter": "python",
   "pygments_lexer": "ipython3",
   "version": "3.12.3"
  }
 },
 "nbformat": 4,
 "nbformat_minor": 5
}
